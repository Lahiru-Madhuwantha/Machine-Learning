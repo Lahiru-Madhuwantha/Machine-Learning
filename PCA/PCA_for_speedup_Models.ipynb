{
  "nbformat": 4,
  "nbformat_minor": 0,
  "metadata": {
    "colab": {
      "provenance": []
    },
    "kernelspec": {
      "name": "python3",
      "display_name": "Python 3"
    },
    "language_info": {
      "name": "python"
    }
  },
  "cells": [
    {
      "cell_type": "markdown",
      "source": [],
      "metadata": {
        "id": "xoWcIfbZBHts"
      }
    },
    {
      "cell_type": "code",
      "execution_count": 1,
      "metadata": {
        "id": "wE26vLm73Iqx"
      },
      "outputs": [],
      "source": [
        "from sklearn.datasets import load_digits\n",
        "import numpy as np"
      ]
    },
    {
      "cell_type": "code",
      "source": [
        "digits = load_digits()"
      ],
      "metadata": {
        "id": "iyZI7LN03RBD"
      },
      "execution_count": 2,
      "outputs": []
    },
    {
      "cell_type": "code",
      "source": [
        "digits.data.shape"
      ],
      "metadata": {
        "colab": {
          "base_uri": "https://localhost:8080/"
        },
        "id": "3pcY1XJv3Vtx",
        "outputId": "ebb2552b-ddd3-459f-e468-f6697c4ae4df"
      },
      "execution_count": 3,
      "outputs": [
        {
          "output_type": "execute_result",
          "data": {
            "text/plain": [
              "(1797, 64)"
            ]
          },
          "metadata": {},
          "execution_count": 3
        }
      ]
    },
    {
      "cell_type": "code",
      "source": [
        "from sklearn.preprocessing import StandardScaler\n",
        "sc=StandardScaler()\n",
        "new_data = sc.fit_transform(digits.data)"
      ],
      "metadata": {
        "id": "bKz9L0U53Zd6"
      },
      "execution_count": 4,
      "outputs": []
    },
    {
      "cell_type": "code",
      "source": [
        "from sklearn.model_selection import train_test_split\n",
        "x_train, x_test, y_train, y_test = train_test_split(new_data,digits.target, test_size=0.2,random_state=42)"
      ],
      "metadata": {
        "id": "3wr4nA7V3xuN"
      },
      "execution_count": 5,
      "outputs": []
    },
    {
      "cell_type": "code",
      "source": [
        "x_test.shape"
      ],
      "metadata": {
        "colab": {
          "base_uri": "https://localhost:8080/"
        },
        "id": "7EdqYWnf4Z4j",
        "outputId": "fd8dd133-ddce-4bd8-ac3a-e6f8e171e5d4"
      },
      "execution_count": 6,
      "outputs": [
        {
          "output_type": "execute_result",
          "data": {
            "text/plain": [
              "(360, 64)"
            ]
          },
          "metadata": {},
          "execution_count": 6
        }
      ]
    },
    {
      "cell_type": "code",
      "source": [
        "x_train.shape"
      ],
      "metadata": {
        "colab": {
          "base_uri": "https://localhost:8080/"
        },
        "id": "MlXd-rhw4dop",
        "outputId": "e26dff1a-c45c-4ef0-bac7-151864105a36"
      },
      "execution_count": 7,
      "outputs": [
        {
          "output_type": "execute_result",
          "data": {
            "text/plain": [
              "(1437, 64)"
            ]
          },
          "metadata": {},
          "execution_count": 7
        }
      ]
    },
    {
      "cell_type": "code",
      "source": [
        "from sklearn.linear_model import LogisticRegression\n",
        "#Crete object\n",
        "model = LogisticRegression(solver='lbfgs',max_iter=1000)\n",
        "\n",
        "import time\n",
        "start = time.time()\n",
        "model.fit(x_train, y_train)\n",
        "end = time.time()\n",
        "\n",
        "print((end - start)*1000)"
      ],
      "metadata": {
        "colab": {
          "base_uri": "https://localhost:8080/"
        },
        "id": "WMRGHo_R4pHV",
        "outputId": "69c1e9a0-1fe0-4cb8-d984-5240995f4692"
      },
      "execution_count": 11,
      "outputs": [
        {
          "output_type": "stream",
          "name": "stdout",
          "text": [
            "564.0125274658203\n"
          ]
        }
      ]
    },
    {
      "cell_type": "code",
      "source": [
        "from sklearn.metrics import accuracy_score\n",
        "y_pred = model.predict(x_test)\n",
        "accuracy_score(y_test,y_pred)"
      ],
      "metadata": {
        "colab": {
          "base_uri": "https://localhost:8080/"
        },
        "id": "8wF7yHPL58Yk",
        "outputId": "99d5f336-3a3d-4ff3-b8ba-55683e1269a7"
      },
      "execution_count": 12,
      "outputs": [
        {
          "output_type": "execute_result",
          "data": {
            "text/plain": [
              "0.9722222222222222"
            ]
          },
          "metadata": {},
          "execution_count": 12
        }
      ]
    },
    {
      "cell_type": "markdown",
      "source": [
        "After Dimention Reduction"
      ],
      "metadata": {
        "id": "0d4idmqv6s9h"
      }
    },
    {
      "cell_type": "code",
      "source": [
        "from sklearn.decomposition import PCA\n",
        "pca = PCA(n_components=10)\n",
        "new_digits = pca.fit_transform(digits.data)"
      ],
      "metadata": {
        "id": "4EIAvdcj99ow"
      },
      "execution_count": 16,
      "outputs": []
    },
    {
      "cell_type": "code",
      "source": [
        "new_digits.data.shape"
      ],
      "metadata": {
        "colab": {
          "base_uri": "https://localhost:8080/"
        },
        "id": "X5H8i8tA-JHs",
        "outputId": "2ea773d6-f32e-4141-f938-0aeca5561a85"
      },
      "execution_count": 17,
      "outputs": [
        {
          "output_type": "execute_result",
          "data": {
            "text/plain": [
              "(1797, 10)"
            ]
          },
          "metadata": {},
          "execution_count": 17
        }
      ]
    },
    {
      "cell_type": "code",
      "source": [
        "from sklearn.model_selection import train_test_split\n",
        "x_train, x_test, y_train, y_test = train_test_split(new_digits,digits.target, test_size=0.2,random_state=42)"
      ],
      "metadata": {
        "id": "Oh4v97Pr-MRY"
      },
      "execution_count": 18,
      "outputs": []
    },
    {
      "cell_type": "code",
      "source": [
        "x_test.shape"
      ],
      "metadata": {
        "colab": {
          "base_uri": "https://localhost:8080/"
        },
        "id": "CU46fp2P-YxJ",
        "outputId": "b2e02fba-5106-493c-e49d-357947dccac7"
      },
      "execution_count": 19,
      "outputs": [
        {
          "output_type": "execute_result",
          "data": {
            "text/plain": [
              "(360, 10)"
            ]
          },
          "metadata": {},
          "execution_count": 19
        }
      ]
    },
    {
      "cell_type": "code",
      "source": [
        "x_train.shape"
      ],
      "metadata": {
        "colab": {
          "base_uri": "https://localhost:8080/"
        },
        "id": "ke5kyFtg-fWF",
        "outputId": "d5dc1a38-f9d3-4f79-ec06-17da8a4bfb34"
      },
      "execution_count": 26,
      "outputs": [
        {
          "output_type": "execute_result",
          "data": {
            "text/plain": [
              "(1437, 10)"
            ]
          },
          "metadata": {},
          "execution_count": 26
        }
      ]
    },
    {
      "cell_type": "code",
      "source": [
        "from sklearn.linear_model import LogisticRegression\n",
        "#Crete object\n",
        "model = LogisticRegression(solver='lbfgs',max_iter=1000)\n",
        "\n",
        "import time\n",
        "start = time.time()\n",
        "model.fit(x_train, y_train)\n",
        "end = time.time()\n",
        "\n",
        "print((end - start)*1000)"
      ],
      "metadata": {
        "colab": {
          "base_uri": "https://localhost:8080/"
        },
        "id": "ge0pwJRk-l1_",
        "outputId": "8cb30ad1-ddef-47d2-fe9f-4ee9eaf61de6"
      },
      "execution_count": 27,
      "outputs": [
        {
          "output_type": "stream",
          "name": "stdout",
          "text": [
            "924.2463111877441\n"
          ]
        }
      ]
    },
    {
      "cell_type": "markdown",
      "source": [
        "summery:Model speed increase.Accuracy reduce when pCA"
      ],
      "metadata": {
        "id": "8vfsK8hHAf3H"
      }
    },
    {
      "cell_type": "code",
      "source": [],
      "metadata": {
        "id": "xZnc4WCqA0-R"
      },
      "execution_count": null,
      "outputs": []
    }
  ]
}